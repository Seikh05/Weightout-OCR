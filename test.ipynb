{
 "cells": [
  {
   "cell_type": "code",
   "execution_count": 1,
   "id": "414d740a",
   "metadata": {},
   "outputs": [],
   "source": [
    "import cv2\n",
    "import numpy as np\n",
    "import tensorflow as tf"
   ]
  },
  {
   "cell_type": "code",
   "execution_count": 2,
   "id": "c0a75384",
   "metadata": {},
   "outputs": [
    {
     "name": "stderr",
     "output_type": "stream",
     "text": [
      "c:\\Users\\91955\\anaconda3\\envs\\.weighout\\Lib\\site-packages\\tensorflow\\lite\\python\\interpreter.py:457: UserWarning:     Warning: tf.lite.Interpreter is deprecated and is scheduled for deletion in\n",
      "    TF 2.20. Please use the LiteRT interpreter from the ai_edge_litert package.\n",
      "    See the [migration guide](https://ai.google.dev/edge/litert/migration)\n",
      "    for details.\n",
      "    \n",
      "  warnings.warn(_INTERPRETER_DELETION_WARNING)\n"
     ]
    }
   ],
   "source": [
    "# Load TFLite model\n",
    "interpreter = tf.lite.Interpreter(model_path=\"model_float16.tflite\")\n",
    "interpreter.allocate_tensors()\n",
    "input_details = interpreter.get_input_details()\n",
    "output_details = interpreter.get_output_details()\n",
    "alphabet = \"0123456789abcdefghijklmnopqrstuvwxyz.\"\n",
    "blank_index = len(alphabet)"
   ]
  },
  {
   "cell_type": "code",
   "execution_count": 3,
   "id": "7c099a9f",
   "metadata": {},
   "outputs": [],
   "source": [
    "# Open camera\n",
    "cap = cv2.VideoCapture(0)\n",
    "\n",
    "while True:\n",
    "    ret, frame = cap.read()\n",
    "    if not ret:\n",
    "        break\n",
    "    \n",
    "    # Crop / select ROI if needed\n",
    "    roi = cv2.cvtColor(frame, cv2.COLOR_BGR2GRAY)\n",
    "    roi = cv2.resize(roi, (200,31)).astype('float32')/255\n",
    "    inp = np.expand_dims(roi, axis=(0,-1))  # shape [1,31,200,1]\n",
    "    \n",
    "    # Run inference\n",
    "    interpreter.set_tensor(input_details[0]['index'], inp)\n",
    "    interpreter.invoke()\n",
    "    result = interpreter.get_tensor(output_details[0]['index'])\n",
    "    \n",
    "    # Decode\n",
    "    output_array = result[0]\n",
    "    pred_indices = np.argmax(output_array, axis=-1) if output_array.ndim==2 else output_array.astype(int)\n",
    "    text = \"\".join(alphabet[i] for i in pred_indices if i not in [blank_index])\n",
    "    \n",
    "    # Overlay on frame\n",
    "    cv2.putText(frame, text, (10,40), cv2.FONT_HERSHEY_SIMPLEX, 1, (0,0,255), 2)\n",
    "    cv2.imshow(\"7-Segment OCR\", frame)\n",
    "    \n",
    "    if cv2.waitKey(1) & 0xFF == ord('q'):\n",
    "        break\n",
    "\n",
    "cap.release()\n",
    "cv2.destroyAllWindows()"
   ]
  },
  {
   "cell_type": "code",
   "execution_count": null,
   "id": "b3579a8b",
   "metadata": {},
   "outputs": [],
   "source": []
  }
 ],
 "metadata": {
  "kernelspec": {
   "display_name": ".weighout",
   "language": "python",
   "name": "python3"
  },
  "language_info": {
   "codemirror_mode": {
    "name": "ipython",
    "version": 3
   },
   "file_extension": ".py",
   "mimetype": "text/x-python",
   "name": "python",
   "nbconvert_exporter": "python",
   "pygments_lexer": "ipython3",
   "version": "3.11.13"
  }
 },
 "nbformat": 4,
 "nbformat_minor": 5
}
